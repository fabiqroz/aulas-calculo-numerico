{
 "cells": [
  {
   "cell_type": "markdown",
   "metadata": {},
   "source": [
    "# Transformações de bases - *Exercícios*\n"
   ]
  },
  {
   "cell_type": "markdown",
   "metadata": {},
   "source": [
    "## Números inteiros: Base binária para a base decimal"
   ]
  },
  {
   "cell_type": "markdown",
   "metadata": {},
   "source": [
    "### Primeiramente, no papel, converta os números binários abaixo para números decimais:\n",
    "\n",
    "1. 01100010\n",
    "2. 00011101"
   ]
  },
  {
   "cell_type": "markdown",
   "metadata": {},
   "source": [
    "### Agora desenvolva um algoritmo em python que realize essa conversão. \n",
    "\n",
    "* A entrada deve ser uma string que represente um numero binário. \n",
    "* A saída deve ser um número inteiro representando o binário de entrada."
   ]
  },
  {
   "cell_type": "code",
   "execution_count": 37,
   "metadata": {},
   "outputs": [],
   "source": [
    "import numpy as np"
   ]
  },
  {
   "cell_type": "code",
   "execution_count": 38,
   "metadata": {},
   "outputs": [],
   "source": [
    "# Nossa solução\n",
    "# Funcao que converte de binario para inteiro\n",
    "def binary_to_int(bin):\n",
    "    inteiro = 0\n",
    "    exp = len(bin)-1\n",
    "    for digito in bin:\n",
    "        num = int(digito)\n",
    "        inteiro += num*np.power(2,exp)\n",
    "        exp -=1\n",
    "    \n",
    "    return inteiro\n",
    "        \n",
    " "
   ]
  },
  {
   "cell_type": "code",
   "execution_count": 39,
   "metadata": {},
   "outputs": [
    {
     "name": "stdout",
     "output_type": "stream",
     "text": [
      "1001\n"
     ]
    }
   ],
   "source": [
    "# Lê do usuário um numero binário representado por uma string\n",
    "bin_int = input(\"Digite um número na base binária:\")\n",
    "# Exibe o numero binario\n",
    "print(bin_int)"
   ]
  },
  {
   "cell_type": "code",
   "execution_count": 40,
   "metadata": {},
   "outputs": [
    {
     "name": "stdout",
     "output_type": "stream",
     "text": [
      "9\n"
     ]
    }
   ],
   "source": [
    "# Trasnformando uma string representando um numero binário em um numero inteiro:\n",
    "inteiro = binary_to_int(bin_int)\n",
    "# Exibe o inteiro \n",
    "print(inteiro)\n",
    "        "
   ]
  },
  {
   "cell_type": "code",
   "execution_count": 41,
   "metadata": {},
   "outputs": [
    {
     "name": "stdout",
     "output_type": "stream",
     "text": [
      "1001\n"
     ]
    }
   ],
   "source": [
    "# checando a solução:\n",
    "print(np.binary_repr(inteiro))"
   ]
  },
  {
   "cell_type": "markdown",
   "metadata": {},
   "source": [
    "## Números inteiros: Base decimal para a base binária"
   ]
  },
  {
   "cell_type": "markdown",
   "metadata": {},
   "source": [
    "### Primeiramente, no papel, converta os números inteiros abaixo para números binários:\n",
    "\n",
    "1. 25\n",
    "2. 101\n",
    "3. -10"
   ]
  },
  {
   "cell_type": "markdown",
   "metadata": {},
   "source": [
    "### Agora desenvolva um algoritmo em python que realize essa conversão. \n",
    "\n",
    "* A entrada deve ser um número inteiro. \n",
    "* A saída deve ser uma string que represente um numero binário"
   ]
  },
  {
   "cell_type": "code",
   "execution_count": 46,
   "metadata": {},
   "outputs": [],
   "source": [
    "# Nossa solução\n",
    "# Funcao que converte inteiro para binario\n",
    "def int_to_binary(dec):\n",
    "    q, r = divmod(dec,2)\n",
    "    binario = str(r) # comeca a concatenar em uma string o valor do resto calculado\n",
    "    while q >=2:\n",
    "        q, r = divmod(q,2) \n",
    "        binario += str(r) # concatena o valor do resto na string\n",
    "    \n",
    "    binario += str(q) # concatena o ultimo quociente calculado \n",
    "    binario_inv = binario[::-1] # inverte a string que representa o numero binario encontrado\n",
    "    return binario_inv\n"
   ]
  },
  {
   "cell_type": "code",
   "execution_count": 49,
   "metadata": {},
   "outputs": [
    {
     "name": "stdout",
     "output_type": "stream",
     "text": [
      "25\n"
     ]
    }
   ],
   "source": [
    "# Lê do usuário um numero inteiro \n",
    "inteiro = int(input(\"Digite um número inteiro na base decimal:\"))\n",
    "# Exibe o inteiro \n",
    "print(inteiro)"
   ]
  },
  {
   "cell_type": "code",
   "execution_count": 50,
   "metadata": {},
   "outputs": [
    {
     "name": "stdout",
     "output_type": "stream",
     "text": [
      "11001\n"
     ]
    }
   ],
   "source": [
    "# Trasnformando um numero inteiro em uma string representando um numero binário:\n",
    "binario = int_to_binary(inteiro)\n",
    "# Exibe o binario \n",
    "print(binario)"
   ]
  },
  {
   "cell_type": "markdown",
   "metadata": {},
   "source": [
    "## Números reais: Base decimal para a base binária"
   ]
  },
  {
   "cell_type": "markdown",
   "metadata": {},
   "source": [
    "### Primeiramente, no papel, converta os números inteiros abaixo para números binários:\n",
    "\n",
    "1. 25,13\n",
    "2. 101,1"
   ]
  },
  {
   "cell_type": "markdown",
   "metadata": {},
   "source": [
    "### Agora desenvolva um algoritmo em python que realize essa conversão. \n",
    "\n",
    "* A entrada deve ser um número real. \n",
    "* A saída deve ser uma string que represente um numero binário"
   ]
  },
  {
   "cell_type": "code",
   "execution_count": 55,
   "metadata": {},
   "outputs": [],
   "source": [
    "def decimal_to_binary(num):\n",
    "    return 0 # retirar essa linha e adcionar seu codigo!\n"
   ]
  },
  {
   "cell_type": "code",
   "execution_count": 56,
   "metadata": {},
   "outputs": [],
   "source": [
    "num = float(input(\"Digite um numero real:\"))\n",
    "\n",
    "# transformando a parte inteira\n",
    "part_inteira = int(num)\n",
    "part_int_binaria = int_to_binary(part_inteira)\n",
    "\n",
    "# transformando a parte decimal\n",
    "part_decimal = num - part_inteira\n",
    "part_dec_binaria = decimal_to_binary(part_decimal)"
   ]
  },
  {
   "cell_type": "code",
   "execution_count": 57,
   "metadata": {},
   "outputs": [
    {
     "name": "stdout",
     "output_type": "stream",
     "text": [
      "101101,0\n"
     ]
    }
   ],
   "source": [
    "# conferindo o resultado\n",
    "print('{},{}'.format(part_int_binaria, part_dec_binaria))"
   ]
  },
  {
   "cell_type": "markdown",
   "metadata": {},
   "source": [
    "## Sistema de ponto flutuante\n",
    "\n",
    "Considere o sistema F(10,4,-4,4). Represente neste sistema os números abaixo e se necessário use truncamento:\n",
    "\n",
    "* 432124\n",
    "* -0,0013523\n",
    "* 125,64\n",
    "* 746347362,09\n",
    "* 0,00034"
   ]
  }
 ],
 "metadata": {
  "kernelspec": {
   "display_name": "aulas",
   "language": "python",
   "name": "python3"
  },
  "language_info": {
   "codemirror_mode": {
    "name": "ipython",
    "version": 3
   },
   "file_extension": ".py",
   "mimetype": "text/x-python",
   "name": "python",
   "nbconvert_exporter": "python",
   "pygments_lexer": "ipython3",
   "version": "3.9.16"
  }
 },
 "nbformat": 4,
 "nbformat_minor": 2
}
